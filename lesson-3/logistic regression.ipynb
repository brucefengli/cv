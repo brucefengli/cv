{
 "cells": [
  {
   "cell_type": "code",
   "execution_count": 18,
   "metadata": {},
   "outputs": [
    {
     "name": "stdout",
     "output_type": "stream",
     "text": [
      "[[1.0, -0.017612, 14.053064], [1.0, -1.395634, 4.662541], [1.0, -0.752157, 6.53862], [1.0, -1.322371, 7.152853], [1.0, 0.423363, 11.054677], [1.0, 0.406704, 7.067335], [1.0, 0.667394, 12.741452], [1.0, -2.46015, 6.866805], [1.0, 0.569411, 9.548755], [1.0, -0.026632, 10.427743]] [0, 1, 0, 0, 0, 1, 0, 1, 0, 0]\n",
      "-----------------------------------\n",
      "[[ 3.13388135]\n",
      " [-0.51591617]\n",
      " [-0.55385839]]\n",
      "-----------------------------------\n",
      "[[0.00956115]\n",
      " [0.78100353]\n",
      " [0.47513596]\n",
      " [0.46367567]\n",
      " [0.03889327]\n",
      " [0.27086336]\n",
      " [0.01382442]\n",
      " [0.64562769]\n",
      " [0.07954501]\n",
      " [0.06736604]]\n"
     ]
    }
   ],
   "source": [
    "from numpy import *\n",
    "import os\n",
    "\n",
    "\n",
    "def load_data():\n",
    "    data_mat = []\n",
    "    label_mat = []\n",
    "    \n",
    "    \n",
    "    file = open(\"E:\\\\training_sample.txt\")\n",
    "    for line in file.readlines():\n",
    "        line_arr = line.strip().split()\n",
    "        data_mat.append([1.0, float(line_arr[0]), float(line_arr[1])])\n",
    "        label_mat.append(int(line_arr[2]))\n",
    "                        \n",
    "    return data_mat, label_mat\n",
    "\n",
    "def sig_moid(x):\n",
    "    return 1.0 / (1 + exp(-x))\n",
    "\n",
    "\n",
    "def gradient_ascent(data_mat_in, class_labels):\n",
    "    data_matrix = mat(data_mat_in)\n",
    "    label_mat = mat(class_labels).transpose()\n",
    "    m,n = shape(data_matrix)\n",
    "    alpha = 0.01\n",
    "    max_cycles = 1000\n",
    "    weights = ones((n, 1))\n",
    "    for k in range(max_cycles):\n",
    "        h = sig_moid(data_matrix * weights)\n",
    "        error = h - label_mat\n",
    "        temp = data_matrix.transpose() * error\n",
    "        weights = weights - alpha * temp\n",
    "    return weights\n",
    "        \n",
    "def logistic_regression_test():\n",
    "    data_arr, label_mat = load_data()\n",
    "    A = gradient_ascent(data_arr, label_mat)\n",
    "    H = sig_moid(mat(data_arr) * A)\n",
    "    \n",
    "    print(data_arr, label_mat)\n",
    "    print(\"-----------------------------------\")\n",
    "    print(A)\n",
    "    print(\"-----------------------------------\")\n",
    "    print(H)\n",
    "    \n",
    "logistic_regression_test()    \n"
   ]
  },
  {
   "cell_type": "code",
   "execution_count": null,
   "metadata": {},
   "outputs": [],
   "source": []
  }
 ],
 "metadata": {
  "kernelspec": {
   "display_name": "Python 3",
   "language": "python",
   "name": "python3"
  },
  "language_info": {
   "codemirror_mode": {
    "name": "ipython",
    "version": 3
   },
   "file_extension": ".py",
   "mimetype": "text/x-python",
   "name": "python",
   "nbconvert_exporter": "python",
   "pygments_lexer": "ipython3",
   "version": "3.6.5"
  }
 },
 "nbformat": 4,
 "nbformat_minor": 2
}
